{
 "cells": [
  {
   "cell_type": "markdown",
   "id": "df353b59",
   "metadata": {},
   "source": [
    "# Support Vector Classifier with Caret in R"
   ]
  },
  {
   "cell_type": "code",
   "execution_count": 1,
   "id": "f3578656",
   "metadata": {},
   "outputs": [
    {
     "name": "stdout",
     "output_type": "stream",
     "text": [
      "[1] \"hello world\"\n"
     ]
    }
   ],
   "source": [
    "print('hello world')"
   ]
  },
  {
   "cell_type": "code",
   "execution_count": 3,
   "id": "28103382",
   "metadata": {},
   "outputs": [],
   "source": [
    "\n",
    "library(ggplot2)\n",
    "library(ggpubr)\n",
    "library(caret)\n",
    "library(reshape2)"
   ]
  },
  {
   "cell_type": "code",
   "execution_count": null,
   "id": "29940ecf",
   "metadata": {},
   "outputs": [],
   "source": []
  }
 ],
 "metadata": {
  "kernelspec": {
   "display_name": "R",
   "language": "R",
   "name": "ir"
  },
  "language_info": {
   "codemirror_mode": "r",
   "file_extension": ".r",
   "mimetype": "text/x-r-source",
   "name": "R",
   "pygments_lexer": "r",
   "version": "3.6.3"
  }
 },
 "nbformat": 4,
 "nbformat_minor": 5
}
